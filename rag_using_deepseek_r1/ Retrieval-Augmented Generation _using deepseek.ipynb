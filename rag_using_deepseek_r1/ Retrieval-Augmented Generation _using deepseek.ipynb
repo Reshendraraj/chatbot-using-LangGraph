{
 "cells": [
  {
   "cell_type": "code",
   "execution_count": 1,
   "id": "a0993b8b-9897-468d-a2df-7fb42fbee0b6",
   "metadata": {},
   "outputs": [],
   "source": [
    "from langchain_community.document_loaders import UnstructuredURLLoader\n",
    "urls = ['https://www.livemint.com/economy/budget-2024-key-highlights-live-updates-nirmala-sitharaman-infrastructure-defence-income-tax-modi-budget-23-july-11721654502862.html',\n",
    "        'https://cleartax.in/s/budget-2024-highlights',\n",
    "        'https://www.hindustantimes.com/budget',\n",
    "        'https://economictimes.indiatimes.com/news/economy/policy/budget-2024-highlights-india-nirmala-sitharaman-capex-fiscal-deficit-tax-slab-key-announcement-in-union-budget-2024-25/articleshow/111942707.cms?from=mdr']\n",
    "loader = UnstructuredURLLoader(urls=urls)\n",
    "data = loader.load() "
   ]
  },
  {
   "cell_type": "code",
   "execution_count": 2,
   "id": "c6cb5810-0e33-4c41-9989-6dca568b323d",
   "metadata": {},
   "outputs": [
    {
     "data": {
      "text/plain": [
       "4"
      ]
     },
     "execution_count": 2,
     "metadata": {},
     "output_type": "execute_result"
    }
   ],
   "source": [
    "len(data)"
   ]
  },
  {
   "cell_type": "code",
   "execution_count": 3,
   "id": "193aa31f-3e85-4dea-8fef-68554d1e1ca0",
   "metadata": {},
   "outputs": [
    {
     "name": "stdout",
     "output_type": "stream",
     "text": [
      "Total number of documents:  176\n"
     ]
    }
   ],
   "source": [
    "from langchain.text_splitter import RecursiveCharacterTextSplitter\n",
    "\n",
    "# split data\n",
    "text_splitter = RecursiveCharacterTextSplitter(chunk_size=1000)\n",
    "docs = text_splitter.split_documents(data)\n",
    "\n",
    "\n",
    "print(\"Total number of documents: \",len(docs))"
   ]
  },
  {
   "cell_type": "code",
   "execution_count": 4,
   "id": "d923dada-b657-40e3-9ce7-696de2d29a0b",
   "metadata": {},
   "outputs": [
    {
     "data": {
      "text/plain": [
       "Document(metadata={'source': 'https://www.livemint.com/economy/budget-2024-key-highlights-live-updates-nirmala-sitharaman-infrastructure-defence-income-tax-modi-budget-23-july-11721654502862.html'}, page_content='Furthermore, the proposal to increase the deduction of employer expenditure towards NPS from 10% to 14% of the employee’s salary will improve social security benefits for the workforce. The revamp of the capital gains tax regime will impact investment decisions and financial planning, ensuring a more balanced and fair approach to taxation. These measures collectively contribute to a more robust and financially secure environment for individuals and families across India.\"\\n\\n24 Jul 2024, 08:43:19 PM IST\\n\\nBudget 2024 Key Highlights Live Updates: MP Ahammed, Chairman, Malabar Group, said')"
      ]
     },
     "execution_count": 4,
     "metadata": {},
     "output_type": "execute_result"
    }
   ],
   "source": [
    "docs[9]"
   ]
  },
  {
   "cell_type": "code",
   "execution_count": 5,
   "id": "e05205e8-bb3c-45e5-8b58-0e2d9f0f9162",
   "metadata": {},
   "outputs": [
    {
     "name": "stderr",
     "output_type": "stream",
     "text": [
      "C:\\Users\\konde\\AppData\\Local\\Temp\\ipykernel_2852\\2517662690.py:2: LangChainDeprecationWarning: The class `HuggingFaceEmbeddings` was deprecated in LangChain 0.2.2 and will be removed in 1.0. An updated version of the class exists in the :class:`~langchain-huggingface package and should be used instead. To use it run `pip install -U :class:`~langchain-huggingface` and import as `from :class:`~langchain_huggingface import HuggingFaceEmbeddings``.\n",
      "  embeddings = HuggingFaceEmbeddings()\n",
      "C:\\Users\\konde\\AppData\\Local\\Temp\\ipykernel_2852\\2517662690.py:2: LangChainDeprecationWarning: Default values for HuggingFaceEmbeddings.model_name were deprecated in LangChain 0.2.16 and will be removed in 0.4.0. Explicitly pass a model_name to the HuggingFaceEmbeddings constructor instead.\n",
      "  embeddings = HuggingFaceEmbeddings()\n",
      "C:\\Users\\konde\\Downloads\\raj_conda\\envs\\env_langchain1\\lib\\site-packages\\tqdm\\auto.py:21: TqdmWarning: IProgress not found. Please update jupyter and ipywidgets. See https://ipywidgets.readthedocs.io/en/stable/user_install.html\n",
      "  from .autonotebook import tqdm as notebook_tqdm\n"
     ]
    },
    {
     "data": {
      "text/plain": [
       "[0.03492268547415733,\n",
       " 0.018829984590411186,\n",
       " -0.017854733392596245,\n",
       " 0.00013884168583899736,\n",
       " 0.07407364249229431]"
      ]
     },
     "execution_count": 5,
     "metadata": {},
     "output_type": "execute_result"
    }
   ],
   "source": [
    "from langchain_community.embeddings import HuggingFaceEmbeddings\n",
    "embeddings = HuggingFaceEmbeddings()\n",
    "\n",
    "vector = embeddings.embed_query(\"hello, world!\")\n",
    "vector[:5]\n",
    "#vector\n",
    "# from langchain_huggingface import HuggingFaceEmbeddings\n",
    "\n",
    "# embeddings = HuggingFaceEmbeddings(model_name=\"sentence-transformers/all-MiniLM-L6-v2\")  # Explicit model\n",
    "# vector = embeddings.embed_query(\"hello, world!\")\n",
    "# print(vector[:5])\n"
   ]
  },
  {
   "cell_type": "code",
   "execution_count": 6,
   "id": "6c9ef3fb-328c-4134-aa79-8261ff932012",
   "metadata": {},
   "outputs": [
    {
     "name": "stderr",
     "output_type": "stream",
     "text": [
      "C:\\Users\\konde\\AppData\\Local\\Temp\\ipykernel_2852\\1700344016.py:2: LangChainDeprecationWarning: Default values for HuggingFaceEmbeddings.model_name were deprecated in LangChain 0.2.16 and will be removed in 0.4.0. Explicitly pass a model_name to the HuggingFaceEmbeddings constructor instead.\n",
      "  vectorstore = Chroma.from_documents(documents=docs, embedding=HuggingFaceEmbeddings())\n"
     ]
    }
   ],
   "source": [
    "from langchain_chroma import Chroma\n",
    "vectorstore = Chroma.from_documents(documents=docs, embedding=HuggingFaceEmbeddings())"
   ]
  },
  {
   "cell_type": "code",
   "execution_count": 9,
   "id": "318be85a-a52b-4bac-9ce9-52e1bb694b4c",
   "metadata": {},
   "outputs": [],
   "source": [
    "retriever = vectorstore.as_retriever(search_type=\"similarity\", search_kwargs={\"k\": 7})\n",
    "\n",
    "retrieved_docs = retriever.invoke(\"Budget highlights\")"
   ]
  },
  {
   "cell_type": "code",
   "execution_count": 10,
   "id": "7d952136-29c8-4b4b-bc2d-28ae858a0caa",
   "metadata": {},
   "outputs": [
    {
     "data": {
      "text/plain": [
       "7"
      ]
     },
     "execution_count": 10,
     "metadata": {},
     "output_type": "execute_result"
    }
   ],
   "source": [
    "len(retrieved_docs)"
   ]
  },
  {
   "cell_type": "code",
   "execution_count": 12,
   "id": "bf0cc9be-0eb5-4a6a-a949-46b2f9cfc0a4",
   "metadata": {},
   "outputs": [
    {
     "name": "stdout",
     "output_type": "stream",
     "text": [
      "24 Jul 2024, 02:01:06 PM IST\n",
      "\n",
      "Budget 2024 Key Highlights Live Updates: Manish Shah praises balanced budget supporting MSMEs and urban housing\n",
      "\n",
      "Manish Shah, MD & CEO at Godrej Capital, commended the 2024 budget for striking a perfect balance between short-term needs and long-term goals, laying the foundation for a resilient and thriving economy. He praised the government's strong commitment to bolstering the MSME sector, recognizing its pivotal role in the country’s economic advancement.\n"
     ]
    }
   ],
   "source": [
    "print(retrieved_docs[0].page_content)"
   ]
  },
  {
   "cell_type": "code",
   "execution_count": 8,
   "id": "337c13f5-447f-474e-9c1b-8b8a65fa4e88",
   "metadata": {},
   "outputs": [],
   "source": [
    "# from langchain_huggingface import HuggingFacePipeline\n",
    "# from langchain.prompts import PromptTemplate\n",
    "# from transformers import pipeline\n",
    "# from langchain_core.output_parsers import StrOutputParser\n",
    "# import torch\n",
    "# from transformers import AutoModelForCausalLM, AutoTokenizer\n",
    "\n",
    "\n",
    "# #model_id = \"meta-llama/Meta-Llama-3-8B\"\n",
    "# model_id = \"facebook/opt-1.3b\"\n",
    "\n",
    "# text_generation_pipeline = pipeline(\n",
    "#     \"text-generation\", model=model_id, model_kwargs={\"torch_dtype\": torch.bfloat16}, max_new_tokens=400)\n",
    "\n",
    "# llm = HuggingFacePipeline(pipeline=text_generation_pipeline)\n",
    "\n",
    "# prompt_template = \"\"\"\n",
    "# <|system|>\n",
    "# Answer the question based on your knowledge. Use the following context to help:\n",
    "\n",
    "# {context}\n",
    "\n",
    "# </s>\n",
    "# <|user|>\n",
    "# {question}\n",
    "# </s>\n",
    "# <|assistant|>\n",
    "\n",
    "#  \"\"\"\n",
    "\n",
    "# prompt = PromptTemplate(\n",
    "#     input_variables=[\"context\", \"question\"],\n",
    "#     template=prompt_template,\n",
    "# )\n",
    "\n",
    "# llm_chain = prompt | llm | StrOutputParser()"
   ]
  },
  {
   "cell_type": "markdown",
   "id": "999ff54f-bf76-44f3-b51b-2f16423c350d",
   "metadata": {},
   "source": []
  },
  {
   "cell_type": "code",
   "execution_count": 2,
   "id": "3455553d-1284-47aa-850b-c41131fff8ef",
   "metadata": {},
   "outputs": [],
   "source": [
    "# from langchain_community.document_loaders import UnstructuredURLLoader\n",
    "# from langchain.text_splitter import RecursiveCharacterTextSplitter\n",
    "# from langchain_community.embeddings import HuggingFaceEmbeddings\n",
    "# from langchain_chroma import Chroma\n",
    "# from langchain_huggingface import HuggingFacePipeline\n",
    "# from langchain.prompts import PromptTemplate\n",
    "# from langchain_core.output_parsers import StrOutputParser\n",
    "# from transformers import pipeline\n",
    "# import torch\n",
    "\n",
    "# # Load Documents\n",
    "# urls = [\n",
    "#     'https://www.livemint.com/economy/budget-2024-key-highlights-live-updates-nirmala-sitharaman-infrastructure-defence-income-tax-modi-budget-23-july-11721654502862.html',\n",
    "#     'https://cleartax.in/s/budget-2024-highlights',\n",
    "#     'https://www.hindustantimes.com/budget',\n",
    "#     'https://economictimes.indiatimes.com/news/economy/policy/budget-2024-highlights-india-nirmala-sitharaman-capex-fiscal-deficit-tax-slab-key-announcement-in-union-budget-2024-25/articleshow/111942707.cms?from=mdr'\n",
    "# ]\n",
    "\n",
    "# loader = UnstructuredURLLoader(urls=urls)\n",
    "# data = loader.load()\n",
    "\n",
    "# # Split Data into Chunks\n",
    "# text_splitter = RecursiveCharacterTextSplitter(chunk_size=1000, chunk_overlap=100)\n",
    "# docs = text_splitter.split_documents(data)\n",
    "\n",
    "# # Generate Embeddings using a High-Performance Model\n",
    "# embedding_model = HuggingFaceEmbeddings(model_name=\"sentence-transformers/all-MiniLM-L6-v2\")\n",
    "\n",
    "# # Store in ChromaDB\n",
    "# vectorstore = Chroma.from_documents(documents=docs, embedding=embedding_model)\n",
    "# retriever = vectorstore.as_retriever(search_type=\"similarity\", search_kwargs={\"k\": 5})\n",
    "\n",
    "# # Load LLaMA Model (Optimized for Faster Inference)\n",
    "# model_id = \"llama3.2\"\n",
    "\n",
    "# text_generation_pipeline = pipeline(\n",
    "#     \"text-generation\",\n",
    "#     model=model_id,\n",
    "#     torch_dtype=torch.float16,  # Use float16 for optimized inference\n",
    "#     device_map=\"auto\",  # Automatically selects GPU/CPU\n",
    "#     max_new_tokens=400\n",
    "# )\n",
    "\n",
    "# llm = HuggingFacePipeline(pipeline=text_generation_pipeline)\n",
    "\n",
    "# # Define the Prompt Template\n",
    "# prompt_template = PromptTemplate(\n",
    "#     input_variables=[\"context\", \"question\"],\n",
    "#     template=\"\"\"\n",
    "#     <|system|>\n",
    "#     Answer the question based on your knowledge and the provided context:\n",
    "\n",
    "#     {context}\n",
    "\n",
    "#     </s>\n",
    "#     <|user|>\n",
    "#     {question}\n",
    "#     </s>\n",
    "#     <|assistant|>\n",
    "#     \"\"\"\n",
    "# )\n",
    "\n",
    "# # Create the LLM Chain\n",
    "# llm_chain = prompt_template | llm | StrOutputParser()\n",
    "\n",
    "# # Query the System\n",
    "# query = \"What are the key highlights of Budget 2024?\"\n",
    "# retrieved_docs = retriever.invoke(query)\n",
    "# context = \"\\n\\n\".join([doc.page_content for doc in retrieved_docs])\n",
    "\n",
    "# response = llm_chain.invoke({\"context\": context, \"question\": query})\n",
    "\n",
    "# # Print the Response\n",
    "# print(\"\\n🔹 **Budget 2024 Highlights:**\\n\")\n",
    "# print(response)\n"
   ]
  },
  {
   "cell_type": "code",
   "execution_count": 10,
   "id": "91dfce51-0944-42b5-a0ac-1ef05168faa4",
   "metadata": {},
   "outputs": [
    {
     "name": "stdout",
     "output_type": "stream",
     "text": [
      "\n",
      "🔹 **Budget 2024 Highlights:**\n",
      "\n",
      "<think>\n",
      "Alright, so I need to figure out the key highlights of Budget 2024 based on the provided context. Let me go through the information step by step.\n",
      "\n",
      "First, looking at the first paragraph, it mentions that Atul Garg from GRM Overseas Limited highlighted that Agriculture remains a cornerstone with a significant provision of ₹1.52 lakh crore. It also talks about introducing high-yielding crop varieties and promoting natural farming along with digital infrastructure for agriculture to support sustainable development.\n",
      "\n",
      "Next, there's another repetition of the same points, so it seems consistent. Then, in the second paragraph from Livemint, they mention that the Finance Minister Nirmala Sitharaman presented the Budget 2024-25 on July 23 and covered nine priorities. The highlights include provisions for agriculture, employment schemes, loan support for MSMEs, infrastructure development, and a fiscal deficit projection of 4.9% with a target to reduce it to 4.5%.\n",
      "\n",
      "Putting this together, the key points are:\n",
      "\n",
      "1. Agriculture gets significant funding (₹1.52 lakh crore) along with initiatives like high-yielding crops and digital infrastructure.\n",
      "2. Employment and MSME support schemes are introduced.\n",
      "3. Infrastructure development is emphasized.\n",
      "4. Fiscal deficit at 4.9% aimed to be reduced.\n",
      "   \n",
      "I should structure the answer to include these points clearly, making sure each is highlighted as a key aspect of Budget 2024.\n",
      "</think>\n",
      "\n",
      "The key highlights of the Union Budget 2024-25 presented by Finance Minister Nirmala Sitharaman are:\n",
      "\n",
      "1. **Significant Provision for Agriculture**: A substantial allocation of ₹1.52 lakh crore was made to enhance agricultural productivity and resilience, including support for high-yielding crop varieties and natural farming practices.\n",
      "\n",
      "2. **Digital Public Infrastructure for Agriculture**: The government introduced digital infrastructure to support the agriculture sector, promoting sustainable development and modernization efforts.\n",
      "\n",
      "3. **Support for Employment and MSME Sector**: Employment-related schemes were announced along with financial support for Micro, Small, and Medium Enterprises (MSMEs) to stimulate economic growth and provide employment opportunities.\n",
      "\n",
      "4. **Infrastructure Development**: The budget emphasized plans for infrastructure improvements to strengthen the economy's foundation.\n",
      "\n",
      "5. **Fiscal Deficit Target**: The fiscal deficit was projected at 4.9% of GDP with a clear commitment to reducing it down to 4.5%, indicating a policy focus on financial sustainability.\n",
      "\n",
      "These points collectively outline the government's priorities and strategies as highlighted in Budget 2024-25, aiming for economic growth and sectoral development.\n"
     ]
    }
   ],
   "source": [
    "from langchain_community.document_loaders import UnstructuredURLLoader\n",
    "from langchain.text_splitter import RecursiveCharacterTextSplitter\n",
    "from langchain_chroma import Chroma\n",
    "from langchain.prompts import PromptTemplate\n",
    "from langchain_core.output_parsers import StrOutputParser\n",
    "from langchain_community.embeddings import OllamaEmbeddings\n",
    "from langchain_community.llms import Ollama\n",
    "\n",
    "# Load Documents from URLs\n",
    "urls = [\n",
    "    \"https://www.livemint.com/economy/budget-2024-key-highlights-live-updates-nirmala-sitharaman-infrastructure-defence-income-tax-modi-budget-23-july-11721654502862.html\",\n",
    "    \"https://cleartax.in/s/budget-2024-highlights\",\n",
    "    \"https://www.hindustantimes.com/budget\",\n",
    "    \"https://economictimes.indiatimes.com/news/economy/policy/budget-2024-highlights-india-nirmala-sitharaman-capex-fiscal-deficit-tax-slab-key-announcement-in-union-budget-2024-25/articleshow/111942707.cms?from=mdr\",\n",
    "]\n",
    "\n",
    "loader = UnstructuredURLLoader(urls=urls)\n",
    "data = loader.load()\n",
    "\n",
    "# Split Data into Chunks\n",
    "text_splitter = RecursiveCharacterTextSplitter(chunk_size=1000, chunk_overlap=300)\n",
    "docs = text_splitter.split_documents(data)\n",
    "\n",
    "# ✅ Use Ollama's DeepSeek Embeddings Model\n",
    "# embedding_model = OllamaEmbeddings(model=\"deepseek-r1:14b\")\n",
    "embedding_model = OllamaEmbeddings(model=\"mxbai-embed-large\")\n",
    "\n",
    "# Store in ChromaDB\n",
    "vectorstore = Chroma.from_documents(documents=docs, embedding=embedding_model)\n",
    "retriever = vectorstore.as_retriever(search_type=\"similarity\", search_kwargs={\"k\": 5})\n",
    "\n",
    "# ✅ Load DeepSeek LLM via Ollama\n",
    "llm = Ollama(model=\"deepseek-r1\")\n",
    "\n",
    "# Define Prompt Template\n",
    "prompt_template = PromptTemplate(\n",
    "    input_variables=[\"context\", \"question\"],\n",
    "    template=\"\"\"\n",
    "    <|system|>\n",
    "    Answer the question based on your knowledge and the provided context:\n",
    "\n",
    "    {context}\n",
    "\n",
    "    </s>\n",
    "    <|user|>\n",
    "    {question}\n",
    "    </s>\n",
    "    <|assistant|>\n",
    "    \"\"\"\n",
    ")\n",
    "\n",
    "# Create the LLM Chain\n",
    "llm_chain = prompt_template | llm | StrOutputParser()\n",
    "\n",
    "# Query the System\n",
    "query = \"What are the key highlights of Budget 2024?\"\n",
    "retrieved_docs = retriever.invoke(query)\n",
    "context = \"\\n\\n\".join([doc.page_content for doc in retrieved_docs])\n",
    "\n",
    "response = llm_chain.invoke({\"context\": context, \"question\": query})\n",
    "\n",
    "# Print the Response\n",
    "print(\"\\n🔹 **Budget 2024 Highlights:**\\n\")\n",
    "print(response)\n"
   ]
  },
  {
   "attachments": {
    "dc1a3dbd-02de-4dcf-8c5d-bdc9b009d757.png": {
     "image/png": "[encoded data removed]"
    }
   },
   "cell_type": "markdown",
   "id": "045264d8-f4c0-445a-9b0f-0ffa7f8516f6",
   "metadata": {},
   "source": [
    "# Flow Diagram\n",
    "![image.png](attachment:dc1a3dbd-02de-4dcf-8c5d-bdc9b009d757.png)"
   ]
  },
  {
   "cell_type": "code",
   "execution_count": null,
   "id": "3e267a04-f916-4ce0-83df-ad1579ae6bbe",
   "metadata": {},
   "outputs": [],
   "source": []
  }
 ],
 "metadata": {
  "kernelspec": {
   "display_name": "Python 3 (ipykernel)",
   "language": "python",
   "name": "python3"
  },
  "language_info": {
   "codemirror_mode": {
    "name": "ipython",
    "version": 3
   },
   "file_extension": ".py",
   "mimetype": "text/x-python",
   "name": "python",
   "nbconvert_exporter": "python",
   "pygments_lexer": "ipython3",
   "version": "3.12.7"
  }
 },
 "nbformat": 4,
 "nbformat_minor": 5
}
