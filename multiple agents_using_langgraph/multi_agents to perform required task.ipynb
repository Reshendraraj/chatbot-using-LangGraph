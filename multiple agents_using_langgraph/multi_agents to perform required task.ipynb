{
 "cells": [
  {
   "cell_type": "markdown",
   "id": "c083770d-c765-4390-a529-84b58868e613",
   "metadata": {},
   "source": [
    "# Multi-agent system using LangChain and LangGraph"
   ]
  },
  {
   "cell_type": "code",
   "execution_count": 13,
   "id": "5c4bb78f-4f41-42cd-8d88-5ffb1d302125",
   "metadata": {},
   "outputs": [],
   "source": [
    "# import langgraph.prebuilt\n",
    "# print(dir(langgraph.prebuilt))\n"
   ]
  },
  {
   "cell_type": "code",
   "execution_count": 17,
   "id": "7d91c28f-696e-4f2f-ab81-f2fc4a5863a4",
   "metadata": {},
   "outputs": [
    {
     "name": "stdout",
     "output_type": "stream",
     "text": [
      "{'research_agent': {'response': 'Quantum computing is a computer that exploits quantum mechanical phenomena to perform calculations faster than classical computers. Learn about the basic concepts, the history of research and the challenges of building a scalable quantum computer. What is quantum computing? Quantum computing is an emergent field of cutting-edge computer science harnessing the unique qualities of quantum mechanics to solve problems beyond the ability of even the most powerful classical computers. The field of quantum computing contains a range of disciplines, including quantum hardware and quantum algorithms. Quantum computers will not replace our familiar \"classical\" computers. Rather, the two types of machines could work together to solve problems that stymie classical computers, potentially supercharging scientific research in fields such as materials and drug discovery, giving a boost to industry and upending cybersecurity as we know it. Quantum computing is a field of computer science that uses quantum theory to create new ways of computing. It involves qubits that can exist in multiple states and perform calculations faster and more efficiently than classical computers. What Is Quantum Computing? Quantum computing uses the laws of quantum mechanics to solve problems that are too complex for traditional computers. Here\\'s how quantum computing works, examples of the technology, applications, challenges and the future outlook of quantum.'}, 'math_agent': {'response': 'I can only perform addition or multiplication.'}}\n"
     ]
    }
   ],
   "source": [
    "from langchain_community.tools import DuckDuckGoSearchRun\n",
    "from langchain_community.llms import Ollama\n",
    "from langchain.schema.runnable import RunnableParallel\n",
    "\n",
    "# Initialize LLaMA 3.2 1B model locally\n",
    "model = Ollama(model=\"llama3.2\")  # Corrected model name\n",
    "\n",
    "# Function for web search\n",
    "def search_duckduckgo(query: str):\n",
    "    \"\"\"Search DuckDuckGo using LangChain's DuckDuckGoSearchRun tool.\"\"\"\n",
    "    return DuckDuckGoSearchRun().invoke(query)\n",
    "\n",
    "# Math tools\n",
    "def add(a: float, b: float) -> float:\n",
    "    \"\"\"Return the sum of two numbers.\"\"\"\n",
    "    return a + b\n",
    "\n",
    "def multiply(a: float, b: float) -> float:\n",
    "    \"\"\"Return the product of two numbers.\"\"\"\n",
    "    return a * b\n",
    "\n",
    "# Define agent functions (manually handle tools)\n",
    "def math_agent(input_data):\n",
    "    \"\"\"Handles mathematical queries.\"\"\"\n",
    "    query = input_data[\"messages\"][-1][\"content\"]\n",
    "    \n",
    "    if \"add\" in query.lower():\n",
    "        numbers = [float(num) for num in query.split() if num.replace('.', '', 1).isdigit()]\n",
    "        return {\"response\": add(*numbers)}\n",
    "    \n",
    "    elif \"multiply\" in query.lower():\n",
    "        numbers = [float(num) for num in query.split() if num.replace('.', '', 1).isdigit()]\n",
    "        return {\"response\": multiply(*numbers)}\n",
    "    \n",
    "    return {\"response\": \"I can only perform addition or multiplication.\"}\n",
    "\n",
    "def research_agent(input_data):\n",
    "    \"\"\"Handles research queries.\"\"\"\n",
    "    query = input_data[\"messages\"][-1][\"content\"]\n",
    "    return {\"response\": search_duckduckgo(query)}\n",
    "\n",
    "# ✅ Use RunnableParallel to run both agents\n",
    "workflow = RunnableParallel(\n",
    "    research_agent=research_agent,\n",
    "    math_agent=math_agent\n",
    ")\n",
    "\n",
    "# Example query execution\n",
    "response = workflow.invoke({\n",
    "    \"messages\": [{\"role\": \"user\", \"content\": \"What is quantum computing?\"}]\n",
    "})\n",
    "\n",
    "print(response)\n"
   ]
  },
  {
   "cell_type": "code",
   "execution_count": 18,
   "id": "c3b03cdf-ae08-4499-b4da-2d03ad40635b",
   "metadata": {},
   "outputs": [
    {
     "name": "stdout",
     "output_type": "stream",
     "text": [
      "{'research_agent': {'response': 'What is quantum computing? Quantum computing is an emergent field of cutting-edge computer science harnessing the unique qualities of quantum mechanics to solve problems beyond the ability of even the most powerful classical computers. The field of quantum computing contains a range of disciplines, including quantum hardware and quantum algorithms. Quantum parallelism is the heuristic that quantum computers can be thought of as evaluating a function for multiple input values simultaneously. This can be achieved by preparing a quantum system in a superposition of input states and applying a unitary transformation that encodes the function to be evaluated. The resulting state encodes the function\\'s output values for all input values in the ... Quantum computers will not replace our familiar \"classical\" computers. Rather, the two types of machines could work together to solve problems that stymie classical computers, potentially supercharging scientific research in fields such as materials and drug discovery, giving a boost to industry and upending cybersecurity as we know it. Learn what quantum computing is, how it differs from classical computing, and how it uses quantum mechanics. Explore the history, qubits, requirements, and phenomena of quantum computing with Azure Quantum. What Is Quantum Computing? Quantum computing uses the laws of quantum mechanics to solve problems that are too complex for traditional computers. Here\\'s how quantum computing works, examples of the technology, applications, challenges and the future outlook of quantum.'}, 'math_agent': {'response': 'I can only perform addition or multiplication.'}}\n"
     ]
    }
   ],
   "source": [
    "response = workflow.invoke({\n",
    "    \"messages\": [{\"role\": \"user\", \"content\": \"What is quantum computing?\"}]\n",
    "})\n",
    "\n",
    "print(response)"
   ]
  },
  {
   "cell_type": "code",
   "execution_count": 19,
   "id": "8d64aaf1-e3f3-418c-b748-06835f3f6229",
   "metadata": {},
   "outputs": [
    {
     "name": "stdout",
     "output_type": "stream",
     "text": [
      "{'research_agent': {'response': 'Today\\'s Weather in Hyderabad: In Hyderabad today, the weather is expected to be Haze with a maximum temperature of 36°C and a minimum of 24°C. Sunrise in Hyderabad is set for 06:14 AM and ... Hyderabad, India - Current temperature and weather conditions. Detailed hourly weather forecast for today - including weather conditions, temperature, pressure, humidity, precipitation, dewpoint, wind, visibility, and UV index data. ... What is the weather forecast for Hyderabad for today? Today, sun and clouds will share the sky, creating a ... Current weather in Hyderabad is 25°C. Get today\\'s Hyderabad weather report along with accurate forecast including hourly, weekly and monthly reports at Oneindia. How\\'s the weather today in Hyderabad, Telangana. We provide information on: wind speed, wind direction, atmospheric pressure, temperature, humidity and visibility. ... Weather forecast Hyderabad\">Weather in Hyderabad The weather in Hyderabad. 31°C Clear Sky Rainfall: 0.0 mm Wind speed: 9 km/h Everything you need to know about today\\'s weather in Hyderabad, Telangana, India. High/Low, Precipitation Chances, Sunrise/Sunset, and today\\'s Temperature History.'}, 'math_agent': {'response': 7.0}}\n"
     ]
    }
   ],
   "source": [
    "# Example query execution\n",
    "response = workflow.invoke({\n",
    "    \"messages\": [{\"role\": \"user\", \"content\":  \"what is the weather in hyderbad today. Multiply it by 2 and add 5\"}]\n",
    "})\n",
    "\n",
    "print(response)"
   ]
  },
  {
   "cell_type": "code",
   "execution_count": null,
   "id": "1dee36ed-9652-428d-aac6-0ffb48c3cbd8",
   "metadata": {},
   "outputs": [],
   "source": []
  },
  {
   "cell_type": "code",
   "execution_count": null,
   "id": "fa18816c-7290-4864-87a8-fda0dda2b350",
   "metadata": {},
   "outputs": [],
   "source": []
  }
 ],
 "metadata": {
  "kernelspec": {
   "display_name": "Python 3 (ipykernel)",
   "language": "python",
   "name": "python3"
  },
  "language_info": {
   "codemirror_mode": {
    "name": "ipython",
    "version": 3
   },
   "file_extension": ".py",
   "mimetype": "text/x-python",
   "name": "python",
   "nbconvert_exporter": "python",
   "pygments_lexer": "ipython3",
   "version": "3.12.9"
  }
 },
 "nbformat": 4,
 "nbformat_minor": 5
}
